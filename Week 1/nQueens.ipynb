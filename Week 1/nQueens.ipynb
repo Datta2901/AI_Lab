{
 "cells": [
  {
   "cell_type": "code",
   "execution_count": 8,
   "metadata": {},
   "outputs": [
    {
     "name": "stdout",
     "output_type": "stream",
     "text": [
      "Different possible positions with given 4 queens are :\n",
      "[. . Q .]\n",
      "[Q . . .]\n",
      "[. . . Q]\n",
      "[. Q . .]\n",
      "\n",
      "[. Q . .]\n",
      "[. . . Q]\n",
      "[Q . . .]\n",
      "[. . Q .]\n",
      "\n"
     ]
    }
   ],
   "source": [
    "global n\n",
    "global answer \n",
    "\n",
    "def printSolution(board):\n",
    "    for r in board:\n",
    "        print(str(r).replace(',', '').replace('\\'', ''))\n",
    "    print()\n",
    "\n",
    "def isSafe(board,row,column):\n",
    "    # print(board)\n",
    "    r = row\n",
    "    c = column\n",
    "    # upper diagonal\n",
    "    while r >= 0 and c >= 0:\n",
    "        if board[r][c] == 'Q':\n",
    "            return False\n",
    "        r -= 1\n",
    "        c -= 1\n",
    "        \n",
    "    r = row\n",
    "    c = column\n",
    "    \n",
    "    # left side\n",
    "    while c >= 0:\n",
    "        if board[r][c] == 'Q':\n",
    "            return False\n",
    "        c -= 1\n",
    "        \n",
    "    r = row\n",
    "    c = column\n",
    "    \n",
    "    # lower diagonal\n",
    "    while r < n and c >= 0 :\n",
    "        if board[r][c] == 'Q':\n",
    "            return False\n",
    "        r += 1\n",
    "        c -= 1\n",
    "        \n",
    "    return True\n",
    "\n",
    "def getAnswer(board,col):\n",
    "    if col == n:\n",
    "        # print(n)\n",
    "        printSolution(board)\n",
    "        return\n",
    "    \n",
    "    for row in range(0,n):\n",
    "        if isSafe(board,row,col):\n",
    "            board[row][col] = 'Q'\n",
    "            getAnswer(board,col + 1)\n",
    "            board[row][col] = '.'\n",
    "\n",
    "def solveNQueens(n):\n",
    "    board = [['.'] * n for _ in range(n)]\n",
    "    getAnswer(board,0)\n",
    "    \n",
    "\n",
    "if __name__ == \"__main__\":\n",
    "    n = int(input(\"Enter number of queens\"))\n",
    "    print(\"Different possible positions with given \" + str(n) + \" queens are :\")\n",
    "    count = 0\n",
    "    solveNQueens(n)\n",
    "    \n"
   ]
  }
 ],
 "metadata": {
  "interpreter": {
   "hash": "514c875f458a4eeecf57fff9a8f241a0d348fbc5534b67b68517d23698dc73f9"
  },
  "kernelspec": {
   "display_name": "Python 3.8.5 64-bit ('base': conda)",
   "language": "python",
   "name": "python3"
  },
  "language_info": {
   "codemirror_mode": {
    "name": "ipython",
    "version": 3
   },
   "file_extension": ".py",
   "mimetype": "text/x-python",
   "name": "python",
   "nbconvert_exporter": "python",
   "pygments_lexer": "ipython3",
   "version": "3.9.4"
  },
  "orig_nbformat": 4
 },
 "nbformat": 4,
 "nbformat_minor": 2
}
