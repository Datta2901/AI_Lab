{
 "cells": [
  {
   "cell_type": "code",
   "execution_count": 1,
   "metadata": {},
   "outputs": [
    {
     "name": "stdout",
     "output_type": "stream",
     "text": [
      "Color assigned to vertex 0 is Blue\n",
      "Color assigned to vertex 1 is Violet\n",
      "Color assigned to vertex 2 is Blue\n",
      "Color assigned to vertex 3 is Green\n",
      "Color assigned to vertex 4 is Green\n",
      "Color assigned to vertex 5 is Violet\n"
     ]
    }
   ],
   "source": [
    "class Graph:\n",
    "    def __init__(self, edges, n):\n",
    "        self.adjList = [[] for _ in range(n)]\n",
    "        for (source, destination) in edges:\n",
    "            self.adjList[source].append(destination)\n",
    "            self.adjList[destination].append(source)\n",
    " \n",
    "def graphColoring(graph, n):\n",
    "    result = {}\n",
    "    for node in range(n):\n",
    "        assigned = set([result.get(i) for i in graph.adjList[node] if i in result])\n",
    "        color = 1\n",
    "        for c in assigned:\n",
    "            if color != c:\n",
    "                break\n",
    "            color = color + 1   \n",
    "        result[node] = color\n",
    " \n",
    "    for v in range(n):\n",
    "        print(f'Color assigned to vertex {v} is {colors[result[v]]}')\n",
    "        \n",
    "if __name__ == '__main__':\n",
    "    colors = ['', 'Blue','Violet', 'Green','Purple','Red', 'Yellow', 'Orange', 'Pink',\n",
    "            'Black', 'Brown', 'White']\n",
    "    edges = [(0, 1), (0, 4), (0, 5), (4, 5), (1, 4), (1, 3), (2, 3), (2, 4)]\n",
    "    n = 6\n",
    "    graph = Graph(edges, n)\n",
    "    graphColoring(graph, n)"
   ]
  },
  {
   "cell_type": "code",
   "execution_count": 8,
   "metadata": {},
   "outputs": [
    {
     "name": "stdout",
     "output_type": "stream",
     "text": [
      "Color assigned to vertex 0 is BLUE\n",
      "Color assigned to vertex 1 is BLUE\n",
      "Color assigned to vertex 2 is GREEN\n",
      "Color assigned to vertex 3 is RED\n",
      "Color assigned to vertex 4 is RED\n",
      "Color assigned to vertex 5 is GREEN\n"
     ]
    }
   ],
   "source": [
    "class Graph:\n",
    "    def __init__(self, edges, n):\n",
    "        self.adjList = [[] for _ in range(n)]\n",
    "        # add edges to the undirected graph\n",
    "        for (src, dest) in edges:\n",
    "            self.adjList[src].append(dest)\n",
    "            self.adjList[dest].append(src)\n",
    "# Function to assign colors to vertices of a graph\n",
    "def colorGraph(graph, n):\n",
    "    # keep track of the color assigned to each vertex\n",
    "    result = {}\n",
    "    # assign a color to vertex one by one\n",
    "    for u in range(n):\n",
    "        # check colors of adjacent vertices of `u` and store them in a set\n",
    "        assigned = set([result.get(i) for i in graph.adjList[u] if i in result])\n",
    "    # check for the first free color\n",
    "        color = 1\n",
    "        for c in assigned:\n",
    "            if color != c:\n",
    "                break\n",
    "            color = color + 1\n",
    "        # assign vertex `u` the first available color\n",
    "        result[u] = color\n",
    "    for v in range(n):\n",
    "        print(f'Color assigned to vertex {v} is {colors[result[v]]}')\n",
    "# Greedy coloring of a graph\n",
    "if __name__ == '__main__':\n",
    "    # Add more colors for graphs with many more vertices\n",
    "    colors = ['', 'BLUE', 'GREEN', 'RED', 'YELLOW', 'ORANGE', 'PINK','BLACK', 'BROWN', 'WHITE', 'PURPLE', 'VOILET']\n",
    "    # List of graph edges as per the above diagram\n",
    "    edges = [(0, 2), (0, 4), (0, 5), (3, 5), (1, 4), (1, 3), (2, 3), (2,4)]\n",
    "    # total number of nodes in the graph (labelled from 0 to 5)\n",
    "    n = 6\n",
    "    # build a graph from the given edges\n",
    "    graph = Graph(edges, n)\n",
    "    # color graph using the greedy algorithm\n",
    "    colorGraph(graph, n)"
   ]
  }
 ],
 "metadata": {
  "interpreter": {
   "hash": "36cf16204b8548560b1c020c4e8fb5b57f0e4c58016f52f2d4be01e192833930"
  },
  "kernelspec": {
   "display_name": "Python 3.9.4 64-bit",
   "language": "python",
   "name": "python3"
  },
  "language_info": {
   "codemirror_mode": {
    "name": "ipython",
    "version": 3
   },
   "file_extension": ".py",
   "mimetype": "text/x-python",
   "name": "python",
   "nbconvert_exporter": "python",
   "pygments_lexer": "ipython3",
   "version": "3.8.9"
  },
  "orig_nbformat": 4
 },
 "nbformat": 4,
 "nbformat_minor": 2
}
